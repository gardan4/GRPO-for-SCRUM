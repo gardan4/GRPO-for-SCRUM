{
 "cells": [
  {
   "cell_type": "code",
   "execution_count": 1,
   "id": "7d0a18ed",
   "metadata": {},
   "outputs": [
    {
     "name": "stderr",
     "output_type": "stream",
     "text": [
      "c:\\Users\\Marc\\Desktop\\AgenticRAG\\.venv\\Lib\\site-packages\\tqdm\\auto.py:21: TqdmWarning: IProgress not found. Please update jupyter and ipywidgets. See https://ipywidgets.readthedocs.io/en/stable/user_install.html\n",
      "  from .autonotebook import tqdm as notebook_tqdm\n"
     ]
    }
   ],
   "source": [
    "from reward_components import score_single, batch_weighted_reward\n",
    "import json, textwrap\n"
   ]
  },
  {
   "cell_type": "code",
   "execution_count": 2,
   "id": "79427e08",
   "metadata": {},
   "outputs": [
    {
     "name": "stdout",
     "output_type": "stream",
     "text": [
      "Add pool configuration elements for JMS and JDBC in bitronix \n"
     ]
    }
   ],
   "source": [
    "import json, textwrap\n",
    "row_txt = textwrap.dedent(\"\"\"\n",
    "{\"sprint_name\": \"ESB Cascade 4\", \"sprint_goal\": \"Implement JMS and JDBC configuration elements in bitronix for pool settings\", \"formatted_issues\": \"Add pool configuration elements for JMS and JDBC in bitronix \", \"num_issues\": 1}\n",
    "\"\"\").strip()\n",
    "\n",
    "row = json.loads(row_txt)\n",
    "reference_block = row[\"formatted_issues\"]\n",
    "print(reference_block)\n",
    "# → - \"SSL connections do not verify certificate hostnames\"\n"
   ]
  },
  {
   "cell_type": "code",
   "execution_count": 3,
   "id": "d759960b",
   "metadata": {},
   "outputs": [],
   "source": [
    "\n",
    "# ░░ Fake completion from the model (copy‑paste your own) ░░\n",
    "completion = textwrap.dedent(\"\"\"  Okay, so I'm trying to figure out how to generate user stories from a sprint goal. The sprint goal is to implement JMS and JDBC configuration elements in Bitronix for pool settings. Alright, let's break this down.\n",
    "\n",
    "First, I know that a user story is a narrative statement that describes what a user needs or wants. It should be clear and concise. So, I need to take the sprint goal and turn it into a user story. The goal mentions implementing specific configurations in Bitronix, so maybe the user story should highlight the specific tasks or features they want to achieve.\n",
    "\n",
    "I also remember that user stories should follow a structure: As a [role], I want [action], so that [benefit]. So, I should probably identify the role involved here. If this is part of a larger project, maybe it's a developer or a project manager. But since it's a sprint goal, the role might be more specific, like \"Scrum Master\" or \"User Story Developer.\"\n",
    "\n",
    "Next, I need to identify the action. The action should be specific and clear. So, the action would be to implement JMS and JDBC configuration elements in Bitronix for pool settings. That makes sense because it's a clear action they want to take.\n",
    "\n",
    "Then, the benefit. The benefit should be what the user gains from completing the action. So, the benefit would be that the user will have the ability to configure JMS and JDBC in Bitronix for pool settings, which likely improves productivity or functionality for the user.\n",
    "\n",
    "I should also make sure that the user story is one line long and that there are no extra comments or markdown. Just a straightforward narrative.\n",
    "\n",
    "Wait, but the sprint goal is in Bitronix, which I'm not entirely familiar with. Is it a specific project or a feature within Bitronix? Maybe I should assume it's a feature that Bitronix needs to implement, and the user story should reflect that.\n",
    "\n",
    "Also, I need to make sure that the user story is aligned with the sprint goals and the overall project objectives. So, it shouldn't be too focused on just Bitronix but also on the broader goals of the project.\n",
    "\n",
    "I think I have a good structure here. Let's try to put it together:\n",
    "\n",
    "As a [role], I want [action], so that [benefit].\n",
    "\n",
    "For example, if the role is \"Scrum Master,\" the action would be \"Implement JMS and JDBC configuration elements in Bitronix for pool settings,\" and the benefit would be \"Users will be able to configure JMS and JDBC in Bitronix for pool settings.\"\n",
    "\n",
    "That seems to cover all the necessary parts. I should make sure there are no extra comments or markdown, just plain text.\n",
    "\n",
    "Wait, but the user story should follow the exact structure. So, I need to make sure the role, action, and benefit are clearly defined.\n",
    "\n",
    "Also, I should check that the action is specific and clear. The sprint goal is a bit vague, so maybe I should make it more specific by mentioning the features they need to implement.\n",
    "\n",
    "So, maybe the action should be: \"Implement JMS and JDBC configuration elements in Bitronix for pool settings.\"\n",
    "\n",
    "That makes it more specific and clear.\n",
    "\n",
    "I think that's a solid plan. Now, I can write out the user story based on this structure.\n",
    "</think>\n",
    "\n",
    "As a Scrum Master, I want to implement JMS and JDBC configuration elements in Bitronix for pool settings, so that users will be able to configure JMS and JDBC in Bitronix for pool settings.\"\"\")\n"
   ]
  },
  {
   "cell_type": "code",
   "execution_count": 4,
   "id": "877bdf41",
   "metadata": {},
   "outputs": [
    {
     "name": "stdout",
     "output_type": "stream",
     "text": [
      "---- Detailed per‑component breakdown ----\n",
      "[['as a scrum master, i want to implement jms and jdbc configuration elements in bitronix for pool settings, so that users will be able to configure jms and jdbc in bitronix for pool settings']]\n",
      "r_regex        : +1.000 * 0.35 = +0.350\n",
      "r_clause       : +1.000 * 0.25 = +0.250\n",
      "r_coverage     : +0.883 * 0.20 = +0.177\n",
      "r_count        : +1.000 * 0.10 = +0.100\n",
      "r_length       : +0.190 * 0.05 = +0.009\n",
      "p_redundancy   : +0.000 * 0.20 = +0.000\n",
      "p_extraneous   : -0.000 * 0.20 = -0.000\n",
      "----------------------------------------\n"
     ]
    },
    {
     "data": {
      "text/plain": [
       "0.8861725063323974"
      ]
     },
     "execution_count": 4,
     "metadata": {},
     "output_type": "execute_result"
    }
   ],
   "source": [
    "\n",
    "print(\"---- Detailed per‑component breakdown ----\")\n",
    "score_single(completion, reference_block, verbose=True)\n"
   ]
  },
  {
   "cell_type": "code",
   "execution_count": 5,
   "id": "9cbfc482",
   "metadata": {},
   "outputs": [
    {
     "name": "stdout",
     "output_type": "stream",
     "text": [
      "\n",
      "---- Batch demo (3 completions) ----\n",
      "[['as a scrum master, i want to implement jms and jdbc configuration elements in bitronix for pool settings, so that users will be able to configure jms and jdbc in bitronix for pool settings'], ['as a scrum master, i want to implement jms and jdbc configuration elements in bitronix for pool settings, so that users will be able to configure jms and jdbc in bitronix for pool settings'], ['as a scrum master, i want to implement jms and jdbc configuration elements in bitronix for pool settings, so that users will be able to configure jms and jdbc in bitronix for pool settings']]\n",
      "'…'  ->  +0.886\n",
      "'…'  ->  +0.886\n",
      "'…'  ->  +0.886\n"
     ]
    }
   ],
   "source": [
    "\n",
    "print(\"\\n---- Batch demo (3 completions) ----\")\n",
    "completions = [completion, completion.upper(), completion.lower()]\n",
    "refs        = [reference_block]*3\n",
    "for c, sc in zip(completions, batch_weighted_reward(completions, refs)):\n",
    "    short = c.splitlines()[1][:60] + \"…\"\n",
    "    print(f\"{short!r}  ->  {sc:+.3f}\")\n"
   ]
  }
 ],
 "metadata": {
  "kernelspec": {
   "display_name": ".venv",
   "language": "python",
   "name": "python3"
  },
  "language_info": {
   "codemirror_mode": {
    "name": "ipython",
    "version": 3
   },
   "file_extension": ".py",
   "mimetype": "text/x-python",
   "name": "python",
   "nbconvert_exporter": "python",
   "pygments_lexer": "ipython3",
   "version": "3.12.8"
  }
 },
 "nbformat": 4,
 "nbformat_minor": 5
}
